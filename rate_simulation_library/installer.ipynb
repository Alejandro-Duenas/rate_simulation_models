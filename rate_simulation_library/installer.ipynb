{
 "cells": [
  {
   "cell_type": "markdown",
   "id": "67cc0d3e-dddf-48ea-9150-7f3a5ce13f2c",
   "metadata": {},
   "source": [
    "# Instalar Primera Vez "
   ]
  },
  {
   "cell_type": "code",
   "execution_count": 1,
   "id": "6441a3e0-108a-4f49-9ddc-875582225c13",
   "metadata": {
    "scrolled": true,
    "tags": []
   },
   "outputs": [
    {
     "name": "stdout",
     "output_type": "stream",
     "text": [
      "Processing c:\\users\\personal\\documents\\gigc\\rate models\\rate-simulation-lib\\rate_simulation_library\n",
      "  Preparing metadata (setup.py): started\n",
      "  Preparing metadata (setup.py): finished with status 'done'\n",
      "Building wheels for collected packages: rate-simulation\n",
      "  Building wheel for rate-simulation (setup.py): started\n",
      "  Building wheel for rate-simulation (setup.py): finished with status 'error'\n",
      "  Running setup.py clean for rate-simulation\n",
      "Failed to build rate-simulation\n",
      "Installing collected packages: rate-simulation\n",
      "  Attempting uninstall: rate-simulation\n",
      "    Found existing installation: rate-simulation 0.1\n",
      "    Uninstalling rate-simulation-0.1:\n",
      "      Successfully uninstalled rate-simulation-0.1\n",
      "  Running setup.py install for rate-simulation: started\n",
      "  Running setup.py install for rate-simulation: finished with status 'done'\n",
      "Successfully installed rate-simulation-0.1\n"
     ]
    },
    {
     "name": "stderr",
     "output_type": "stream",
     "text": [
      "  error: subprocess-exited-with-error\n",
      "  \n",
      "  python setup.py bdist_wheel did not run successfully.\n",
      "  exit code: 1\n",
      "  \n",
      "  [23 lines of output]\n",
      "  running bdist_wheel\n",
      "  running build\n",
      "  running build_py\n",
      "  C:\\Users\\PERSONAL\\anaconda3\\lib\\site-packages\\setuptools\\command\\install.py:34: SetuptoolsDeprecationWarning: setup.py install is deprecated. Use build and pip and other standards-based tools.\n",
      "    warnings.warn(\n",
      "  installing to build\\bdist.win-amd64\\wheel\n",
      "  running install\n",
      "  running install_lib\n",
      "  copying build\\lib\\rate_simulation\\stochastic_modeling.py -> build\\bdist.win-amd64\\wheel\\.\\rate_simulation\n",
      "  copying build\\lib\\rate_simulation\\utils.py -> build\\bdist.win-amd64\\wheel\\.\\rate_simulation\n",
      "  copying build\\lib\\rate_simulation\\__init__.py -> build\\bdist.win-amd64\\wheel\\.\\rate_simulation\n",
      "  running install_egg_info\n",
      "  running egg_info\n",
      "  writing rate_simulation.egg-info\\PKG-INFO\n",
      "  writing dependency_links to rate_simulation.egg-info\\dependency_links.txt\n",
      "  writing top-level names to rate_simulation.egg-info\\top_level.txt\n",
      "  reading manifest file 'rate_simulation.egg-info\\SOURCES.txt'\n",
      "  writing manifest file 'rate_simulation.egg-info\\SOURCES.txt'\n",
      "  removing 'build\\bdist.win-amd64\\wheel\\.\\rate_simulation-0.1-py3.8.egg-info' (and everything under it)\n",
      "  error removing build\\bdist.win-amd64\\wheel\\.\\rate_simulation-0.1-py3.8.egg-info: [WinError 5] Access is denied: 'build\\\\bdist.win-amd64\\\\wheel\\\\.\\\\rate_simulation-0.1-py3.8.egg-info'\n",
      "  Copying rate_simulation.egg-info to build\\bdist.win-amd64\\wheel\\.\\rate_simulation-0.1-py3.8.egg-info\n",
      "  running install_scripts\n",
      "  error: [WinError 5] Access is denied: 'build\\\\bdist.win-amd64\\\\wheel\\\\rate_simulation-0.1.dist-info'\n",
      "  [end of output]\n",
      "  \n",
      "  note: This error originates from a subprocess, and is likely not a problem with pip.\n",
      "  ERROR: Failed building wheel for rate-simulation\n",
      "  DEPRECATION: rate-simulation was installed using the legacy 'setup.py install' method, because a wheel could not be built for it. A possible replacement is to fix the wheel build issue reported above. Discussion can be found at https://github.com/pypa/pip/issues/8368\n"
     ]
    }
   ],
   "source": [
    "!pip install ."
   ]
  },
  {
   "cell_type": "markdown",
   "id": "235a0273-8bb7-4d4c-a778-14e179bd3c40",
   "metadata": {},
   "source": [
    "# Actualizar"
   ]
  },
  {
   "cell_type": "code",
   "execution_count": 4,
   "id": "fde8e64d-b03e-4e8d-b3d9-b0d9aabd5756",
   "metadata": {
    "scrolled": true,
    "tags": []
   },
   "outputs": [
    {
     "name": "stdout",
     "output_type": "stream",
     "text": [
      "Processing c:\\users\\personal\\documents\\gigc\\rate models\\rate-simulation-lib\\rate_simulation_library\n",
      "  Preparing metadata (setup.py): started\n",
      "  Preparing metadata (setup.py): finished with status 'done'\n",
      "Building wheels for collected packages: rate-simulation\n",
      "  Building wheel for rate-simulation (setup.py): started\n",
      "  Building wheel for rate-simulation (setup.py): finished with status 'error'\n",
      "  Running setup.py clean for rate-simulation\n",
      "Failed to build rate-simulation\n",
      "Installing collected packages: rate-simulation\n",
      "  Attempting uninstall: rate-simulation\n",
      "    Found existing installation: rate-simulation 0.1\n",
      "    Uninstalling rate-simulation-0.1:\n",
      "      Successfully uninstalled rate-simulation-0.1\n",
      "  Running setup.py install for rate-simulation: started\n",
      "  Running setup.py install for rate-simulation: finished with status 'done'\n",
      "Successfully installed rate-simulation-0.1\n"
     ]
    },
    {
     "name": "stderr",
     "output_type": "stream",
     "text": [
      "  error: subprocess-exited-with-error\n",
      "  \n",
      "  python setup.py bdist_wheel did not run successfully.\n",
      "  exit code: 1\n",
      "  \n",
      "  [24 lines of output]\n",
      "  running bdist_wheel\n",
      "  running build\n",
      "  running build_py\n",
      "  copying rate_simulation\\stochastic_modeling.py -> build\\lib\\rate_simulation\n",
      "  C:\\Users\\PERSONAL\\anaconda3\\lib\\site-packages\\setuptools\\command\\install.py:34: SetuptoolsDeprecationWarning: setup.py install is deprecated. Use build and pip and other standards-based tools.\n",
      "    warnings.warn(\n",
      "  installing to build\\bdist.win-amd64\\wheel\n",
      "  running install\n",
      "  running install_lib\n",
      "  copying build\\lib\\rate_simulation\\stochastic_modeling.py -> build\\bdist.win-amd64\\wheel\\.\\rate_simulation\n",
      "  copying build\\lib\\rate_simulation\\utils.py -> build\\bdist.win-amd64\\wheel\\.\\rate_simulation\n",
      "  copying build\\lib\\rate_simulation\\__init__.py -> build\\bdist.win-amd64\\wheel\\.\\rate_simulation\n",
      "  running install_egg_info\n",
      "  running egg_info\n",
      "  writing rate_simulation.egg-info\\PKG-INFO\n",
      "  writing dependency_links to rate_simulation.egg-info\\dependency_links.txt\n",
      "  writing top-level names to rate_simulation.egg-info\\top_level.txt\n",
      "  reading manifest file 'rate_simulation.egg-info\\SOURCES.txt'\n",
      "  writing manifest file 'rate_simulation.egg-info\\SOURCES.txt'\n",
      "  removing 'build\\bdist.win-amd64\\wheel\\.\\rate_simulation-0.1-py3.8.egg-info' (and everything under it)\n",
      "  error removing build\\bdist.win-amd64\\wheel\\.\\rate_simulation-0.1-py3.8.egg-info: [WinError 5] Access is denied: 'build\\\\bdist.win-amd64\\\\wheel\\\\.\\\\rate_simulation-0.1-py3.8.egg-info'\n",
      "  Copying rate_simulation.egg-info to build\\bdist.win-amd64\\wheel\\.\\rate_simulation-0.1-py3.8.egg-info\n",
      "  running install_scripts\n",
      "  error: [WinError 5] Access is denied: 'build\\\\bdist.win-amd64\\\\wheel\\\\rate_simulation-0.1.dist-info'\n",
      "  [end of output]\n",
      "  \n",
      "  note: This error originates from a subprocess, and is likely not a problem with pip.\n",
      "  ERROR: Failed building wheel for rate-simulation\n",
      "  DEPRECATION: rate-simulation was installed using the legacy 'setup.py install' method, because a wheel could not be built for it. A possible replacement is to fix the wheel build issue reported above. Discussion can be found at https://github.com/pypa/pip/issues/8368\n"
     ]
    }
   ],
   "source": [
    "!pip install --upgrade ."
   ]
  },
  {
   "cell_type": "code",
   "execution_count": null,
   "id": "3a503389-be55-406a-b7d7-6967816e2fe3",
   "metadata": {},
   "outputs": [],
   "source": []
  }
 ],
 "metadata": {
  "kernelspec": {
   "display_name": "Python 3 (ipykernel)",
   "language": "python",
   "name": "python3"
  },
  "language_info": {
   "codemirror_mode": {
    "name": "ipython",
    "version": 3
   },
   "file_extension": ".py",
   "mimetype": "text/x-python",
   "name": "python",
   "nbconvert_exporter": "python",
   "pygments_lexer": "ipython3",
   "version": "3.8.12"
  }
 },
 "nbformat": 4,
 "nbformat_minor": 5
}
