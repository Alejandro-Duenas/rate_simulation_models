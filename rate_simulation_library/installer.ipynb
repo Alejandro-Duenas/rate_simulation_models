{
 "cells": [
  {
   "cell_type": "markdown",
   "id": "67cc0d3e-dddf-48ea-9150-7f3a5ce13f2c",
   "metadata": {},
   "source": [
    "# Instalar Primera Vez "
   ]
  },
  {
   "cell_type": "code",
   "execution_count": null,
   "id": "6441a3e0-108a-4f49-9ddc-875582225c13",
   "metadata": {},
   "outputs": [],
   "source": [
    "!pip intall ."
   ]
  },
  {
   "cell_type": "markdown",
   "id": "235a0273-8bb7-4d4c-a778-14e179bd3c40",
   "metadata": {},
   "source": [
    "# Actualizar"
   ]
  },
  {
   "cell_type": "code",
   "execution_count": 10,
   "id": "fde8e64d-b03e-4e8d-b3d9-b0d9aabd5756",
   "metadata": {},
   "outputs": [
    {
     "name": "stdout",
     "output_type": "stream",
     "text": [
      "Processing c:\\users\\teletrabajo\\documents\\riesgo de tasa de interes\\modelo tasas\\rate_simulation_models\\rate_simulation_library\n",
      "Building wheels for collected packages: rate-simulation\n",
      "  Building wheel for rate-simulation (setup.py): started\n",
      "  Building wheel for rate-simulation (setup.py): finished with status 'done'\n",
      "  Created wheel for rate-simulation: filename=rate_simulation-0.1-py3-none-any.whl size=14971 sha256=814ab6f768d085bfc373f14d105a5567e3deb06ec72c3cddd07a2874dbabb6cf\n",
      "  Stored in directory: C:\\Users\\Teletrabajo\\AppData\\Local\\Temp\\pip-ephem-wheel-cache-gd3j7ilo\\wheels\\e9\\0c\\50\\1c3e00dc0ae35e74adac33196eb089fe3745cdf9539e417b08\n",
      "Successfully built rate-simulation\n",
      "Installing collected packages: rate-simulation\n",
      "  Attempting uninstall: rate-simulation\n",
      "    Found existing installation: rate-simulation 0.1\n",
      "    Uninstalling rate-simulation-0.1:\n",
      "      Successfully uninstalled rate-simulation-0.1\n",
      "Successfully installed rate-simulation-0.1\n"
     ]
    }
   ],
   "source": [
    "!pip install --upgrade ."
   ]
  },
  {
   "cell_type": "code",
   "execution_count": null,
   "id": "83d03461-af13-4c78-8ff7-d5aa014c9912",
   "metadata": {},
   "outputs": [],
   "source": []
  }
 ],
 "metadata": {
  "kernelspec": {
   "display_name": "Python 3 (ipykernel)",
   "language": "python",
   "name": "python3"
  },
  "language_info": {
   "codemirror_mode": {
    "name": "ipython",
    "version": 3
   },
   "file_extension": ".py",
   "mimetype": "text/x-python",
   "name": "python",
   "nbconvert_exporter": "python",
   "pygments_lexer": "ipython3",
   "version": "3.8.12"
  }
 },
 "nbformat": 4,
 "nbformat_minor": 5
}
