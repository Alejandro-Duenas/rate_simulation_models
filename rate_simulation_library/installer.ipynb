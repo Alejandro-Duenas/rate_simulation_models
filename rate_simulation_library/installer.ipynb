{
 "cells": [
  {
   "cell_type": "code",
   "execution_count": 19,
   "id": "fde8e64d-b03e-4e8d-b3d9-b0d9aabd5756",
   "metadata": {},
   "outputs": [
    {
     "name": "stdout",
     "output_type": "stream",
     "text": [
      "Processing c:\\users\\teletrabajo\\documents\\riesgo de tasa de interes\\modelo tasas\\rate_simulation_models\\rate_simulation_library\n",
      "Building wheels for collected packages: rate-simulation\n",
      "  Building wheel for rate-simulation (setup.py): started\n",
      "  Building wheel for rate-simulation (setup.py): finished with status 'done'\n",
      "  Created wheel for rate-simulation: filename=rate_simulation-0.1-py3-none-any.whl size=14099 sha256=49a0a3be8b943558c5214066a79c4b418c8721d58b58daab338c462c62bdd662\n",
      "  Stored in directory: C:\\Users\\Teletrabajo\\AppData\\Local\\Temp\\pip-ephem-wheel-cache-60a25g51\\wheels\\e9\\0c\\50\\1c3e00dc0ae35e74adac33196eb089fe3745cdf9539e417b08\n",
      "Successfully built rate-simulation\n",
      "Installing collected packages: rate-simulation\n",
      "  Attempting uninstall: rate-simulation\n",
      "    Found existing installation: rate-simulation 0.1\n",
      "    Uninstalling rate-simulation-0.1:\n",
      "      Successfully uninstalled rate-simulation-0.1\n",
      "Successfully installed rate-simulation-0.1\n"
     ]
    }
   ],
   "source": [
    "!pip install --upgrade ."
   ]
  },
  {
   "cell_type": "code",
   "execution_count": null,
   "id": "83d03461-af13-4c78-8ff7-d5aa014c9912",
   "metadata": {},
   "outputs": [],
   "source": []
  }
 ],
 "metadata": {
  "kernelspec": {
   "display_name": "Python 3 (ipykernel)",
   "language": "python",
   "name": "python3"
  },
  "language_info": {
   "codemirror_mode": {
    "name": "ipython",
    "version": 3
   },
   "file_extension": ".py",
   "mimetype": "text/x-python",
   "name": "python",
   "nbconvert_exporter": "python",
   "pygments_lexer": "ipython3",
   "version": "3.8.12"
  }
 },
 "nbformat": 4,
 "nbformat_minor": 5
}
